{
 "metadata": {
  "language_info": {
   "codemirror_mode": {
    "name": "ipython",
    "version": 3
   },
   "file_extension": ".py",
   "mimetype": "text/x-python",
   "name": "python",
   "nbconvert_exporter": "python",
   "pygments_lexer": "ipython3",
   "version": "3.5.3-final"
  },
  "orig_nbformat": 2,
  "kernelspec": {
   "name": "Python 3.5.3 64-bit",
   "display_name": "Python 3.5.3 64-bit",
   "metadata": {
    "interpreter": {
     "hash": "31f2aee4e71d21fbe5cf8b01ff0e069b9275f58929596ceb00d14d90e3e16cd6"
    }
   }
  }
 },
 "nbformat": 4,
 "nbformat_minor": 2,
 "cells": [
  {
   "cell_type": "code",
   "execution_count": null,
   "metadata": {},
   "outputs": [],
   "source": [
    "#Creamos el servicio de Azure\n",
    "# Agregamos Azure Portal *Analista de Texto *Plan de tarifa *Grupo de Recursos * Crear"
   ]
  },
  {
   "cell_type": "code",
   "execution_count": 2,
   "metadata": {},
   "outputs": [],
   "source": [
    "from azure.ai.textanalytics import TextAnalyticsClient\n",
    "from azure.core.credentials import AzureKeyCredential"
   ]
  },
  {
   "cell_type": "code",
   "execution_count": null,
   "metadata": {},
   "outputs": [],
   "source": [
    "#Definimos credenciales del servicio\n"
   ]
  },
  {
   "cell_type": "code",
   "execution_count": 4,
   "metadata": {},
   "outputs": [],
   "source": [
    "#colomanos nuestras credenciales de los servicios de Cognitive Service \n",
    "key=''\n",
    "endpoint=''"
   ]
  },
  {
   "cell_type": "code",
   "execution_count": null,
   "metadata": {},
   "outputs": [],
   "source": [
    "#Autenticamos al cliente\n"
   ]
  },
  {
   "cell_type": "code",
   "execution_count": 5,
   "metadata": {},
   "outputs": [],
   "source": [
    "client = TextAnalyticsClient(endpoint, AzureKeyCredential(key))"
   ]
  },
  {
   "cell_type": "code",
   "execution_count": null,
   "metadata": {},
   "outputs": [],
   "source": [
    "# Analisis de opiniones"
   ]
  },
  {
   "cell_type": "code",
   "execution_count": 6,
   "metadata": {},
   "outputs": [],
   "source": [
    "def sentiment_analysis_example(client):\n",
    "\n",
    "    documents = [\"I had the best day of my life. I wish you were there with me.\"]\n",
    "    response = client.analyze_sentiment(documents=documents)[0]\n",
    "    print(\"Document Sentiment: {}\".format(response.sentiment))\n",
    "    print(\"Overall scores: positive={0:.2f}; neutral={1:.2f}; negative={2:.2f} \\n\".format(\n",
    "        response.confidence_scores.positive,\n",
    "        response.confidence_scores.neutral,\n",
    "        response.confidence_scores.negative,\n",
    "    ))\n",
    "    for idx, sentence in enumerate(response.sentences):\n",
    "        print(\"Sentence: {}\".format(sentence.text))\n",
    "        print(\"Sentence {} sentiment: {}\".format(idx+1, sentence.sentiment))\n",
    "        print(\"Sentence score:\\nPositive={0:.2f}\\nNeutral={1:.2f}\\nNegative={2:.2f}\\n\".format(\n",
    "            sentence.confidence_scores.positive,\n",
    "            sentence.confidence_scores.neutral,\n",
    "            sentence.confidence_scores.negative,\n",
    "        ))"
   ]
  },
  {
   "cell_type": "code",
   "execution_count": 7,
   "metadata": {},
   "outputs": [
    {
     "output_type": "stream",
     "name": "stdout",
     "text": [
      "Document Sentiment: positive\nOverall scores: positive=1.00; neutral=0.00; negative=0.00 \n\nSentence: I had the best day of my life.\nSentence 1 sentiment: positive\nSentence score:\nPositive=1.00\nNeutral=0.00\nNegative=0.00\n\nSentence: I wish you were there with me.\nSentence 2 sentiment: neutral\nSentence score:\nPositive=0.21\nNeutral=0.77\nNegative=0.02\n\n"
     ]
    }
   ],
   "source": [
    "sentiment_analysis_example(client)"
   ]
  },
  {
   "cell_type": "code",
   "execution_count": 9,
   "metadata": {},
   "outputs": [],
   "source": [
    "import tweepy\n",
    "import numpy as np #computacion numerica"
   ]
  },
  {
   "cell_type": "code",
   "execution_count": 11,
   "metadata": {},
   "outputs": [],
   "source": [
    "import pandas as pd\n",
    "from IPython.display import display"
   ]
  },
  {
   "cell_type": "code",
   "execution_count": 16,
   "metadata": {},
   "outputs": [],
   "source": [
    "from CREDENTIAL import *\n",
    "\n",
    "def twittter_setup():\n",
    "  auth=tweepy.OAuthHandler(CONSUMER_KEY, CONSUMER_SECRET)\n",
    "  auth.set_access_token(ACCESS_TOKEN, ACCESS_TOKEN_SECRET)\n",
    "\n",
    "  api = tweepy.API(auth)\n",
    "  return api "
   ]
  },
  {
   "cell_type": "code",
   "execution_count": 17,
   "metadata": {},
   "outputs": [
    {
     "output_type": "stream",
     "name": "stdout",
     "text": [
      "numero de twits extraidos: 198. \n\n5 recent tweets: \n\nRT @ChumelTorres: Ya valió madre esto, otra vez.\n\nRT @codigofacilito: Clase gratuita: Primeros pasos en Git https://t.co/gxCgt5wTwn\n\nRT @codigofacilito: 🔴 ¡Estamos en vivo! 🔴\n\nClase gratis 💯 #PrimerosPasos en #Git\n\nEntra aquí 👇\nhttps://t.co/Y1007Ox21j\n\nRegalaremos 1 mes d…\n\nRT @codigofacilito: ¡Acabamos de iniciar una transmisión en vivo! Te esperamos: https://t.co/CUgRLdhinV\n\nyeahh! https://t.co/QaiX2ACT42\n\n"
     ]
    }
   ],
   "source": [
    "extractor = twittter_setup()\n",
    "#en la parte de screen name colocamos el nombre de usuario de Twitter \n",
    "tweets = extractor.user_timeline(screen_name='', count=200)\n",
    "print('numero de twits extraidos: {}. \\n'.format(len(tweets)))\n",
    "\n",
    "print('5 recent tweets: \\n')\n",
    "for tweet in tweets[:5]:\n",
    "  print(tweet.text)\n",
    "  print('')"
   ]
  },
  {
   "cell_type": "code",
   "execution_count": 18,
   "metadata": {},
   "outputs": [
    {
     "output_type": "display_data",
     "data": {
      "text/html": "<div>\n<style scoped>\n    .dataframe tbody tr th:only-of-type {\n        vertical-align: middle;\n    }\n\n    .dataframe tbody tr th {\n        vertical-align: top;\n    }\n\n    .dataframe thead th {\n        text-align: right;\n    }\n</style>\n<table border=\"1\" class=\"dataframe\">\n  <thead>\n    <tr style=\"text-align: right;\">\n      <th></th>\n      <th>tweets</th>\n    </tr>\n  </thead>\n  <tbody>\n    <tr>\n      <th>0</th>\n      <td>RT @ChumelTorres: Ya valió madre esto, otra vez.</td>\n    </tr>\n    <tr>\n      <th>1</th>\n      <td>RT @codigofacilito: Clase gratuita: Primeros p...</td>\n    </tr>\n    <tr>\n      <th>2</th>\n      <td>RT @codigofacilito: 🔴 ¡Estamos en vivo! 🔴\\n\\nC...</td>\n    </tr>\n    <tr>\n      <th>3</th>\n      <td>RT @codigofacilito: ¡Acabamos de iniciar una t...</td>\n    </tr>\n    <tr>\n      <th>4</th>\n      <td>yeahh! https://t.co/QaiX2ACT42</td>\n    </tr>\n    <tr>\n      <th>5</th>\n      <td>RT @IPN_MX: Timora te cuenta las historias más...</td>\n    </tr>\n    <tr>\n      <th>6</th>\n      <td>RT @Toxitina: Facebook solo abre heridas con s...</td>\n    </tr>\n    <tr>\n      <th>7</th>\n      <td>genial , no podia dormir si no lo terminaba ja...</td>\n    </tr>\n    <tr>\n      <th>8</th>\n      <td>Ya me siguen en mi canal de Twitch:\\nhttps://t...</td>\n    </tr>\n    <tr>\n      <th>9</th>\n      <td>este es un tweet para que sea analizado y vea ...</td>\n    </tr>\n  </tbody>\n</table>\n</div>",
      "text/plain": "                                              tweets\n0   RT @ChumelTorres: Ya valió madre esto, otra vez.\n1  RT @codigofacilito: Clase gratuita: Primeros p...\n2  RT @codigofacilito: 🔴 ¡Estamos en vivo! 🔴\\n\\nC...\n3  RT @codigofacilito: ¡Acabamos de iniciar una t...\n4                     yeahh! https://t.co/QaiX2ACT42\n5  RT @IPN_MX: Timora te cuenta las historias más...\n6  RT @Toxitina: Facebook solo abre heridas con s...\n7  genial , no podia dormir si no lo terminaba ja...\n8  Ya me siguen en mi canal de Twitch:\\nhttps://t...\n9  este es un tweet para que sea analizado y vea ..."
     },
     "metadata": {}
    }
   ],
   "source": [
    "data=pd.DataFrame(data=[tweet.text for tweet in tweets], columns= ['tweets'])\n",
    "display(data.head(10))"
   ]
  },
  {
   "cell_type": "code",
   "execution_count": 20,
   "metadata": {},
   "outputs": [],
   "source": [
    "data['len']= np.array([len(tweet.text) for tweet in tweets])\n",
    "data['ID']= np.array([tweet.id for tweet in tweets])\n",
    "data['Date']= np.array([tweet.created_at for tweet in tweets])\n",
    "data['Source']= np.array([tweet.source for tweet in tweets])\n",
    "data['Likes']= np.array([tweet.favorite_count for tweet in tweets])\n",
    "data['RTs']= np.array([tweet.retweet_count for tweet in tweets])"
   ]
  },
  {
   "cell_type": "code",
   "execution_count": 21,
   "metadata": {},
   "outputs": [
    {
     "output_type": "display_data",
     "data": {
      "text/html": "<div>\n<style scoped>\n    .dataframe tbody tr th:only-of-type {\n        vertical-align: middle;\n    }\n\n    .dataframe tbody tr th {\n        vertical-align: top;\n    }\n\n    .dataframe thead th {\n        text-align: right;\n    }\n</style>\n<table border=\"1\" class=\"dataframe\">\n  <thead>\n    <tr style=\"text-align: right;\">\n      <th></th>\n      <th>tweets</th>\n      <th>len</th>\n      <th>ID</th>\n      <th>Date</th>\n      <th>Source</th>\n      <th>Likes</th>\n      <th>RTs</th>\n    </tr>\n  </thead>\n  <tbody>\n    <tr>\n      <th>0</th>\n      <td>RT @ChumelTorres: Ya valió madre esto, otra vez.</td>\n      <td>48</td>\n      <td>1323826643287367680</td>\n      <td>2020-11-04 03:17:21</td>\n      <td>Twitter Web App</td>\n      <td>0</td>\n      <td>1343</td>\n    </tr>\n    <tr>\n      <th>1</th>\n      <td>RT @codigofacilito: Clase gratuita: Primeros p...</td>\n      <td>81</td>\n      <td>1323792695664480259</td>\n      <td>2020-11-04 01:02:28</td>\n      <td>Twitter Web App</td>\n      <td>0</td>\n      <td>39</td>\n    </tr>\n    <tr>\n      <th>2</th>\n      <td>RT @codigofacilito: 🔴 ¡Estamos en vivo! 🔴\\n\\nC...</td>\n      <td>140</td>\n      <td>1323792635673432064</td>\n      <td>2020-11-04 01:02:13</td>\n      <td>Twitter Web App</td>\n      <td>0</td>\n      <td>79</td>\n    </tr>\n    <tr>\n      <th>3</th>\n      <td>RT @codigofacilito: ¡Acabamos de iniciar una t...</td>\n      <td>103</td>\n      <td>1323792597383524353</td>\n      <td>2020-11-04 01:02:04</td>\n      <td>Twitter Web App</td>\n      <td>0</td>\n      <td>6</td>\n    </tr>\n    <tr>\n      <th>4</th>\n      <td>yeahh! https://t.co/QaiX2ACT42</td>\n      <td>30</td>\n      <td>1323792537438605312</td>\n      <td>2020-11-04 01:01:50</td>\n      <td>Twitter Web App</td>\n      <td>0</td>\n      <td>0</td>\n    </tr>\n    <tr>\n      <th>5</th>\n      <td>RT @IPN_MX: Timora te cuenta las historias más...</td>\n      <td>140</td>\n      <td>1323658753514897408</td>\n      <td>2020-11-03 16:10:13</td>\n      <td>Twitter for Android</td>\n      <td>0</td>\n      <td>16</td>\n    </tr>\n    <tr>\n      <th>6</th>\n      <td>RT @Toxitina: Facebook solo abre heridas con s...</td>\n      <td>61</td>\n      <td>1323658650460839938</td>\n      <td>2020-11-03 16:09:49</td>\n      <td>Twitter for Android</td>\n      <td>0</td>\n      <td>5</td>\n    </tr>\n    <tr>\n      <th>7</th>\n      <td>genial , no podia dormir si no lo terminaba ja...</td>\n      <td>84</td>\n      <td>1323520350274150400</td>\n      <td>2020-11-03 07:00:15</td>\n      <td>Twitter Web App</td>\n      <td>1</td>\n      <td>0</td>\n    </tr>\n    <tr>\n      <th>8</th>\n      <td>Ya me siguen en mi canal de Twitch:\\nhttps://t...</td>\n      <td>59</td>\n      <td>1323475308067115008</td>\n      <td>2020-11-03 04:01:17</td>\n      <td>Twitter Web App</td>\n      <td>0</td>\n      <td>0</td>\n    </tr>\n    <tr>\n      <th>9</th>\n      <td>este es un tweet para que sea analizado y vea ...</td>\n      <td>78</td>\n      <td>1323475050150961160</td>\n      <td>2020-11-03 04:00:15</td>\n      <td>Twitter Web App</td>\n      <td>0</td>\n      <td>0</td>\n    </tr>\n  </tbody>\n</table>\n</div>",
      "text/plain": "                                              tweets  len  \\\n0   RT @ChumelTorres: Ya valió madre esto, otra vez.   48   \n1  RT @codigofacilito: Clase gratuita: Primeros p...   81   \n2  RT @codigofacilito: 🔴 ¡Estamos en vivo! 🔴\\n\\nC...  140   \n3  RT @codigofacilito: ¡Acabamos de iniciar una t...  103   \n4                     yeahh! https://t.co/QaiX2ACT42   30   \n5  RT @IPN_MX: Timora te cuenta las historias más...  140   \n6  RT @Toxitina: Facebook solo abre heridas con s...   61   \n7  genial , no podia dormir si no lo terminaba ja...   84   \n8  Ya me siguen en mi canal de Twitch:\\nhttps://t...   59   \n9  este es un tweet para que sea analizado y vea ...   78   \n\n                    ID                Date               Source  Likes   RTs  \n0  1323826643287367680 2020-11-04 03:17:21      Twitter Web App      0  1343  \n1  1323792695664480259 2020-11-04 01:02:28      Twitter Web App      0    39  \n2  1323792635673432064 2020-11-04 01:02:13      Twitter Web App      0    79  \n3  1323792597383524353 2020-11-04 01:02:04      Twitter Web App      0     6  \n4  1323792537438605312 2020-11-04 01:01:50      Twitter Web App      0     0  \n5  1323658753514897408 2020-11-03 16:10:13  Twitter for Android      0    16  \n6  1323658650460839938 2020-11-03 16:09:49  Twitter for Android      0     5  \n7  1323520350274150400 2020-11-03 07:00:15      Twitter Web App      1     0  \n8  1323475308067115008 2020-11-03 04:01:17      Twitter Web App      0     0  \n9  1323475050150961160 2020-11-03 04:00:15      Twitter Web App      0     0  "
     },
     "metadata": {}
    }
   ],
   "source": [
    "display(data.head(10))"
   ]
  },
  {
   "cell_type": "code",
   "execution_count": 22,
   "metadata": {},
   "outputs": [],
   "source": [
    "dfTweet =data.head(10).copy()"
   ]
  },
  {
   "cell_type": "code",
   "execution_count": 23,
   "metadata": {},
   "outputs": [
    {
     "output_type": "display_data",
     "data": {
      "text/html": "<div>\n<style scoped>\n    .dataframe tbody tr th:only-of-type {\n        vertical-align: middle;\n    }\n\n    .dataframe tbody tr th {\n        vertical-align: top;\n    }\n\n    .dataframe thead th {\n        text-align: right;\n    }\n</style>\n<table border=\"1\" class=\"dataframe\">\n  <thead>\n    <tr style=\"text-align: right;\">\n      <th></th>\n      <th>tweets</th>\n      <th>len</th>\n      <th>ID</th>\n      <th>Date</th>\n      <th>Source</th>\n      <th>Likes</th>\n      <th>RTs</th>\n    </tr>\n  </thead>\n  <tbody>\n    <tr>\n      <th>0</th>\n      <td>RT @ChumelTorres: Ya valió madre esto, otra vez.</td>\n      <td>48</td>\n      <td>1323826643287367680</td>\n      <td>2020-11-04 03:17:21</td>\n      <td>Twitter Web App</td>\n      <td>0</td>\n      <td>1343</td>\n    </tr>\n    <tr>\n      <th>1</th>\n      <td>RT @codigofacilito: Clase gratuita: Primeros p...</td>\n      <td>81</td>\n      <td>1323792695664480259</td>\n      <td>2020-11-04 01:02:28</td>\n      <td>Twitter Web App</td>\n      <td>0</td>\n      <td>39</td>\n    </tr>\n    <tr>\n      <th>2</th>\n      <td>RT @codigofacilito: 🔴 ¡Estamos en vivo! 🔴\\n\\nC...</td>\n      <td>140</td>\n      <td>1323792635673432064</td>\n      <td>2020-11-04 01:02:13</td>\n      <td>Twitter Web App</td>\n      <td>0</td>\n      <td>79</td>\n    </tr>\n    <tr>\n      <th>3</th>\n      <td>RT @codigofacilito: ¡Acabamos de iniciar una t...</td>\n      <td>103</td>\n      <td>1323792597383524353</td>\n      <td>2020-11-04 01:02:04</td>\n      <td>Twitter Web App</td>\n      <td>0</td>\n      <td>6</td>\n    </tr>\n    <tr>\n      <th>4</th>\n      <td>yeahh! https://t.co/QaiX2ACT42</td>\n      <td>30</td>\n      <td>1323792537438605312</td>\n      <td>2020-11-04 01:01:50</td>\n      <td>Twitter Web App</td>\n      <td>0</td>\n      <td>0</td>\n    </tr>\n    <tr>\n      <th>5</th>\n      <td>RT @IPN_MX: Timora te cuenta las historias más...</td>\n      <td>140</td>\n      <td>1323658753514897408</td>\n      <td>2020-11-03 16:10:13</td>\n      <td>Twitter for Android</td>\n      <td>0</td>\n      <td>16</td>\n    </tr>\n    <tr>\n      <th>6</th>\n      <td>RT @Toxitina: Facebook solo abre heridas con s...</td>\n      <td>61</td>\n      <td>1323658650460839938</td>\n      <td>2020-11-03 16:09:49</td>\n      <td>Twitter for Android</td>\n      <td>0</td>\n      <td>5</td>\n    </tr>\n    <tr>\n      <th>7</th>\n      <td>genial , no podia dormir si no lo terminaba ja...</td>\n      <td>84</td>\n      <td>1323520350274150400</td>\n      <td>2020-11-03 07:00:15</td>\n      <td>Twitter Web App</td>\n      <td>1</td>\n      <td>0</td>\n    </tr>\n    <tr>\n      <th>8</th>\n      <td>Ya me siguen en mi canal de Twitch:\\nhttps://t...</td>\n      <td>59</td>\n      <td>1323475308067115008</td>\n      <td>2020-11-03 04:01:17</td>\n      <td>Twitter Web App</td>\n      <td>0</td>\n      <td>0</td>\n    </tr>\n    <tr>\n      <th>9</th>\n      <td>este es un tweet para que sea analizado y vea ...</td>\n      <td>78</td>\n      <td>1323475050150961160</td>\n      <td>2020-11-03 04:00:15</td>\n      <td>Twitter Web App</td>\n      <td>0</td>\n      <td>0</td>\n    </tr>\n  </tbody>\n</table>\n</div>",
      "text/plain": "                                              tweets  len  \\\n0   RT @ChumelTorres: Ya valió madre esto, otra vez.   48   \n1  RT @codigofacilito: Clase gratuita: Primeros p...   81   \n2  RT @codigofacilito: 🔴 ¡Estamos en vivo! 🔴\\n\\nC...  140   \n3  RT @codigofacilito: ¡Acabamos de iniciar una t...  103   \n4                     yeahh! https://t.co/QaiX2ACT42   30   \n5  RT @IPN_MX: Timora te cuenta las historias más...  140   \n6  RT @Toxitina: Facebook solo abre heridas con s...   61   \n7  genial , no podia dormir si no lo terminaba ja...   84   \n8  Ya me siguen en mi canal de Twitch:\\nhttps://t...   59   \n9  este es un tweet para que sea analizado y vea ...   78   \n\n                    ID                Date               Source  Likes   RTs  \n0  1323826643287367680 2020-11-04 03:17:21      Twitter Web App      0  1343  \n1  1323792695664480259 2020-11-04 01:02:28      Twitter Web App      0    39  \n2  1323792635673432064 2020-11-04 01:02:13      Twitter Web App      0    79  \n3  1323792597383524353 2020-11-04 01:02:04      Twitter Web App      0     6  \n4  1323792537438605312 2020-11-04 01:01:50      Twitter Web App      0     0  \n5  1323658753514897408 2020-11-03 16:10:13  Twitter for Android      0    16  \n6  1323658650460839938 2020-11-03 16:09:49  Twitter for Android      0     5  \n7  1323520350274150400 2020-11-03 07:00:15      Twitter Web App      1     0  \n8  1323475308067115008 2020-11-03 04:01:17      Twitter Web App      0     0  \n9  1323475050150961160 2020-11-03 04:00:15      Twitter Web App      0     0  "
     },
     "metadata": {}
    }
   ],
   "source": [
    "display(data.head(10))"
   ]
  },
  {
   "cell_type": "code",
   "execution_count": 24,
   "metadata": {},
   "outputs": [],
   "source": [
    "#sin funcion \n",
    "dfTweet.reset_index(drop=True, inplace=True)\n",
    "dfTweet[\"Sentiment\"]= \"\"\n",
    "documents =[]\n",
    "results =[]\n",
    "\n",
    "for i, row in dfTweet.iterrows():\n",
    "  comment= dfTweet.loc[i,\"tweets\"].encode(\"utf-8\").decode(\"ascii\",\"ignore\")\n",
    "  documents.append(comment)\n",
    "\n",
    "  chunks =[]\n",
    "  for i in range(0,len(documents),750):\n",
    "    chunks.append(documents[i:i+750])\n",
    "\n",
    "  result_chunks = []\n",
    "  all_results = []\n",
    "  for i in range(len(chunks)):\n",
    "    cid = i\n",
    "    documents = chunks[i]\n",
    "    try:\n",
    "      response = client.analyze_sentiment(documents, language=\"en\")\n",
    "      data=[doc for doc in response if not doc.is_error]\n",
    "\n",
    "      for doc in data:\n",
    "        recid = (cid * 750)+ int(doc.id)\n",
    "        dfTweet.loc[recid,\"Sentiment\"] = doc.sentiment.capitalize()\n",
    "    except Exception as e:\n",
    "      print(\"[Errno {0}] {1}\".format(e.errno, e.strerror))"
   ]
  },
  {
   "cell_type": "code",
   "execution_count": 25,
   "metadata": {},
   "outputs": [
    {
     "output_type": "display_data",
     "data": {
      "text/html": "<div>\n<style scoped>\n    .dataframe tbody tr th:only-of-type {\n        vertical-align: middle;\n    }\n\n    .dataframe tbody tr th {\n        vertical-align: top;\n    }\n\n    .dataframe thead th {\n        text-align: right;\n    }\n</style>\n<table border=\"1\" class=\"dataframe\">\n  <thead>\n    <tr style=\"text-align: right;\">\n      <th></th>\n      <th>tweets</th>\n      <th>len</th>\n      <th>ID</th>\n      <th>Date</th>\n      <th>Source</th>\n      <th>Likes</th>\n      <th>RTs</th>\n      <th>Sentiment</th>\n    </tr>\n  </thead>\n  <tbody>\n    <tr>\n      <th>0</th>\n      <td>RT @ChumelTorres: Ya valió madre esto, otra vez.</td>\n      <td>48</td>\n      <td>1323826643287367680</td>\n      <td>2020-11-04 03:17:21</td>\n      <td>Twitter Web App</td>\n      <td>0</td>\n      <td>1343</td>\n      <td>Negative</td>\n    </tr>\n    <tr>\n      <th>1</th>\n      <td>RT @codigofacilito: Clase gratuita: Primeros p...</td>\n      <td>81</td>\n      <td>1323792695664480259</td>\n      <td>2020-11-04 01:02:28</td>\n      <td>Twitter Web App</td>\n      <td>0</td>\n      <td>39</td>\n      <td>Positive</td>\n    </tr>\n    <tr>\n      <th>2</th>\n      <td>RT @codigofacilito: 🔴 ¡Estamos en vivo! 🔴\\n\\nC...</td>\n      <td>140</td>\n      <td>1323792635673432064</td>\n      <td>2020-11-04 01:02:13</td>\n      <td>Twitter Web App</td>\n      <td>0</td>\n      <td>79</td>\n      <td>Negative</td>\n    </tr>\n    <tr>\n      <th>3</th>\n      <td>RT @codigofacilito: ¡Acabamos de iniciar una t...</td>\n      <td>103</td>\n      <td>1323792597383524353</td>\n      <td>2020-11-04 01:02:04</td>\n      <td>Twitter Web App</td>\n      <td>0</td>\n      <td>6</td>\n      <td>Positive</td>\n    </tr>\n    <tr>\n      <th>4</th>\n      <td>yeahh! https://t.co/QaiX2ACT42</td>\n      <td>30</td>\n      <td>1323792537438605312</td>\n      <td>2020-11-04 01:01:50</td>\n      <td>Twitter Web App</td>\n      <td>0</td>\n      <td>0</td>\n      <td>Positive</td>\n    </tr>\n    <tr>\n      <th>5</th>\n      <td>RT @IPN_MX: Timora te cuenta las historias más...</td>\n      <td>140</td>\n      <td>1323658753514897408</td>\n      <td>2020-11-03 16:10:13</td>\n      <td>Twitter for Android</td>\n      <td>0</td>\n      <td>16</td>\n      <td>Positive</td>\n    </tr>\n    <tr>\n      <th>6</th>\n      <td>RT @Toxitina: Facebook solo abre heridas con s...</td>\n      <td>61</td>\n      <td>1323658650460839938</td>\n      <td>2020-11-03 16:09:49</td>\n      <td>Twitter for Android</td>\n      <td>0</td>\n      <td>5</td>\n      <td>Positive</td>\n    </tr>\n    <tr>\n      <th>7</th>\n      <td>genial , no podia dormir si no lo terminaba ja...</td>\n      <td>84</td>\n      <td>1323520350274150400</td>\n      <td>2020-11-03 07:00:15</td>\n      <td>Twitter Web App</td>\n      <td>1</td>\n      <td>0</td>\n      <td>Positive</td>\n    </tr>\n    <tr>\n      <th>8</th>\n      <td>Ya me siguen en mi canal de Twitch:\\nhttps://t...</td>\n      <td>59</td>\n      <td>1323475308067115008</td>\n      <td>2020-11-03 04:01:17</td>\n      <td>Twitter Web App</td>\n      <td>0</td>\n      <td>0</td>\n      <td>Neutral</td>\n    </tr>\n    <tr>\n      <th>9</th>\n      <td>este es un tweet para que sea analizado y vea ...</td>\n      <td>78</td>\n      <td>1323475050150961160</td>\n      <td>2020-11-03 04:00:15</td>\n      <td>Twitter Web App</td>\n      <td>0</td>\n      <td>0</td>\n      <td>Positive</td>\n    </tr>\n  </tbody>\n</table>\n</div>",
      "text/plain": "                                              tweets  len  \\\n0   RT @ChumelTorres: Ya valió madre esto, otra vez.   48   \n1  RT @codigofacilito: Clase gratuita: Primeros p...   81   \n2  RT @codigofacilito: 🔴 ¡Estamos en vivo! 🔴\\n\\nC...  140   \n3  RT @codigofacilito: ¡Acabamos de iniciar una t...  103   \n4                     yeahh! https://t.co/QaiX2ACT42   30   \n5  RT @IPN_MX: Timora te cuenta las historias más...  140   \n6  RT @Toxitina: Facebook solo abre heridas con s...   61   \n7  genial , no podia dormir si no lo terminaba ja...   84   \n8  Ya me siguen en mi canal de Twitch:\\nhttps://t...   59   \n9  este es un tweet para que sea analizado y vea ...   78   \n\n                    ID                Date               Source  Likes   RTs  \\\n0  1323826643287367680 2020-11-04 03:17:21      Twitter Web App      0  1343   \n1  1323792695664480259 2020-11-04 01:02:28      Twitter Web App      0    39   \n2  1323792635673432064 2020-11-04 01:02:13      Twitter Web App      0    79   \n3  1323792597383524353 2020-11-04 01:02:04      Twitter Web App      0     6   \n4  1323792537438605312 2020-11-04 01:01:50      Twitter Web App      0     0   \n5  1323658753514897408 2020-11-03 16:10:13  Twitter for Android      0    16   \n6  1323658650460839938 2020-11-03 16:09:49  Twitter for Android      0     5   \n7  1323520350274150400 2020-11-03 07:00:15      Twitter Web App      1     0   \n8  1323475308067115008 2020-11-03 04:01:17      Twitter Web App      0     0   \n9  1323475050150961160 2020-11-03 04:00:15      Twitter Web App      0     0   \n\n  Sentiment  \n0  Negative  \n1  Positive  \n2  Negative  \n3  Positive  \n4  Positive  \n5  Positive  \n6  Positive  \n7  Positive  \n8   Neutral  \n9  Positive  "
     },
     "metadata": {}
    }
   ],
   "source": [
    "display(dfTweet)"
   ]
  },
  {
   "cell_type": "code",
   "execution_count": null,
   "metadata": {},
   "outputs": [],
   "source": []
  }
 ]
}